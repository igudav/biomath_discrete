{
 "cells": [
  {
   "cell_type": "code",
   "execution_count": 2,
   "metadata": {},
   "outputs": [],
   "source": [
    "import sympy as sp\n",
    "import numpy as np\n",
    "import matplotlib.pyplot as plt\n",
    "import matplotlib as mpl\n",
    "from tqdm import tqdm\n",
    "\n",
    "%matplotlib inline\n",
    "mpl.rc('text', usetex=True)\n",
    "mpl.rc('font', size=14)"
   ]
  },
  {
   "cell_type": "code",
   "execution_count": 3,
   "metadata": {},
   "outputs": [
    {
     "data": {
      "text/latex": [
       "$\\displaystyle \\sqrt{u} e^{r \\left(1 - v^{2}\\right)}$"
      ],
      "text/plain": [
       "sqrt(u)*exp(r*(1 - v**2))"
      ]
     },
     "execution_count": 3,
     "metadata": {},
     "output_type": "execute_result"
    }
   ],
   "source": [
    "u, v, r = sp.symbols('u v r', nonnegative=True)\n",
    "g = sp.sqrt(u) * sp.exp(r * (1 - v**2))\n",
    "g"
   ]
  },
  {
   "cell_type": "code",
   "execution_count": 4,
   "metadata": {},
   "outputs": [
    {
     "data": {
      "text/latex": [
       "$\\displaystyle \\left[\\begin{matrix}\\frac{e^{r \\left(1 - v^{2}\\right)}}{2 \\sqrt{u}} & - 2 r \\sqrt{u} v e^{r \\left(1 - v^{2}\\right)}\\\\1 & 0\\end{matrix}\\right]$"
      ],
      "text/plain": [
       "Matrix([\n",
       "[exp(r*(1 - v**2))/(2*sqrt(u)), -2*r*sqrt(u)*v*exp(r*(1 - v**2))],\n",
       "[                            1,                                0]])"
      ]
     },
     "execution_count": 4,
     "metadata": {},
     "output_type": "execute_result"
    }
   ],
   "source": [
    "Jac = sp.Matrix([[g.diff(u), g.diff(v)], [1, 0]])\n",
    "Jac"
   ]
  },
  {
   "cell_type": "code",
   "execution_count": 6,
   "metadata": {},
   "outputs": [
    {
     "data": {
      "text/latex": [
       "$\\displaystyle \\left[\\begin{matrix}\\frac{1}{2} & - 2 r\\\\1 & 0\\end{matrix}\\right]$"
      ],
      "text/plain": [
       "Matrix([\n",
       "[1/2, -2*r],\n",
       "[  1,    0]])"
      ]
     },
     "execution_count": 6,
     "metadata": {},
     "output_type": "execute_result"
    }
   ],
   "source": [
    "Jac_st = Jac.subs({u: 1, v: 1})\n",
    "Jac_st"
   ]
  },
  {
   "cell_type": "code",
   "execution_count": 15,
   "metadata": {},
   "outputs": [
    {
     "name": "stdout",
     "output_type": "stream",
     "text": [
      "⎧      __________       __________       ⎫\n",
      "⎪1   ╲╱ 1 - 32⋅r      ╲╱ 1 - 32⋅r    1   ⎪\n",
      "⎨─ - ────────────: 1, ──────────── + ─: 1⎬\n",
      "⎪4        4                4         4   ⎪\n",
      "⎩                                        ⎭\n"
     ]
    }
   ],
   "source": [
    "sp.pprint(Jac_st.eigenvals())"
   ]
  },
  {
   "cell_type": "code",
   "execution_count": null,
   "metadata": {},
   "outputs": [],
   "source": []
  }
 ],
 "metadata": {
  "kernelspec": {
   "display_name": "Python 3",
   "language": "python",
   "name": "python3"
  },
  "language_info": {
   "codemirror_mode": {
    "name": "ipython",
    "version": 3
   },
   "file_extension": ".py",
   "mimetype": "text/x-python",
   "name": "python",
   "nbconvert_exporter": "python",
   "pygments_lexer": "ipython3",
   "version": "3.7.6"
  }
 },
 "nbformat": 4,
 "nbformat_minor": 4
}
